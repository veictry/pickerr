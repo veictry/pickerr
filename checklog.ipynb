{
 "cells": [
  {
   "cell_type": "code",
   "execution_count": 1,
   "metadata": {
    "collapsed": true,
    "pycharm": {
     "is_executing": false
    }
   },
   "outputs": [
    {
     "name": "stderr",
     "text": [
      "Using TensorFlow backend.\n"
     ],
     "output_type": "stream"
    }
   ],
   "source": [
    "# import keras\n",
    "import os\n",
    "import numpy as np\n",
    "from keras.models import Sequential\n",
    "from keras.layers import Dense, SimpleRNN, LSTM\n",
    "from keras.preprocessing import sequence\n",
    "\n",
    "gram = {}\n",
    "\n",
    "def ngram(chars, gram_len=2):\n",
    "    l = len(chars)\n",
    "    c = []\n",
    "    for i in range(l-gram_len+1):\n",
    "        substr = chars[i:i+gram_len]\n",
    "        if substr not in gram:\n",
    "            gram[substr] = len(gram) + 1\n",
    "        c.append(gram[substr])\n",
    "    return c\n",
    "\n",
    "def read_logs(path):\n",
    "    files = os.listdir(path)\n",
    "    css = []\n",
    "    for file in files:\n",
    "        if file.find('.log') > -1:\n",
    "            target_path = '{}/{}'.format(path, file)\n",
    "            with open(target_path, 'r') as f:\n",
    "                content = f.readlines()\n",
    "                cs = [ngram(c) for c in content]\n",
    "                \n",
    "                css = css + cs\n",
    "                f.close()\n",
    "    return css"
   ]
  },
  {
   "cell_type": "code",
   "execution_count": 4,
   "outputs": [
    {
     "name": "stdout",
     "text": [
      "(2659, 169)\n(2659,)\n"
     ],
     "output_type": "stream"
    }
   ],
   "source": [
    "# mock_data.generate_simple_time_text_log()\n",
    "cs = read_logs('./logs/whites')\n",
    "N = max([len(c) for c in cs])\n",
    "xn = sequence.pad_sequences(cs, maxlen=N)\n",
    "vn = np.ones(len(cs),)\n",
    "\n",
    "cs_tests = read_logs('./logs/tests')\n",
    "xn_tests = sequence.pad_sequences(cs_tests, maxlen=N)\n",
    "vn_tests = np.random.randint(0,2,len(cs))\n",
    "\n",
    "print(xn.shape)\n",
    "print(vn.shape)"
   ],
   "metadata": {
    "collapsed": false,
    "pycharm": {
     "name": "#%%\n",
     "is_executing": false
    }
   }
  },
  {
   "cell_type": "code",
   "execution_count": null,
   "outputs": [],
   "source": [
    "model = Sequential()\n",
    "model.add(Dense(64, input_shape=(N,), activation='relu'))\n",
    "model.add(Dense(32, activation='relu'))\n",
    "# model.add(SimpleRNN(32))\n",
    "model.add(Dense(1, activation='sigmoid'))\n",
    "model.summary()\n",
    "model.compile(optimizer='rmsprop', loss='binary_crossentropy', metrics=['acc'])\n",
    "model.fit(xn, vn, epochs=4, batch_size=64)\n",
    "\n",
    "results = model.predict(xn_tests)\n",
    "print(results)\n",
    "\n",
    "\n"
   ],
   "metadata": {
    "collapsed": false,
    "pycharm": {
     "name": "#%%\n"
    }
   }
  }
 ],
 "metadata": {
  "kernelspec": {
   "display_name": "Python 3",
   "language": "python",
   "name": "python3"
  },
  "language_info": {
   "codemirror_mode": {
    "name": "ipython",
    "version": 2
   },
   "file_extension": ".py",
   "mimetype": "text/x-python",
   "name": "python",
   "nbconvert_exporter": "python",
   "pygments_lexer": "ipython2",
   "version": "2.7.6"
  },
  "pycharm": {
   "stem_cell": {
    "cell_type": "raw",
    "source": [],
    "metadata": {
     "collapsed": false
    }
   }
  }
 },
 "nbformat": 4,
 "nbformat_minor": 0
}